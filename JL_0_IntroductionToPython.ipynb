{
 "cells": [
  {
   "cell_type": "markdown",
   "id": "7f79975a",
   "metadata": {
    "tags": []
   },
   "source": [
    "# Introduction to Python \n",
    "\n",
    "## Provided by the Data Automation Unit (DAU/ISDD) and ...\n",
    "## ... Algorithm and Data Analysis (ADA/ExpD) teams\n",
    "\n",
    "These slides can be found at:\n",
    "\n",
    "https://github.com/silx-kit/silx-training/blob/main/python/python/0_Introduction.ipynb\n",
    "\n",
    "Mutual introduction of trainers and trainees:\n",
    "\n",
    "* Activities\n",
    "* Background in programming (C, Fortran, matlab ?)\n",
    "* Expectation for the day\n",
    "\n",
    "# Python\n",
    "Python is a programming language. Contrary to compiled languages, it is an interpreted language, meaning that the command you type in are directly executed on the fly (withou the need to build an executable program beforehand).\n",
    "\n",
    "## Presentation of Python\n",
    "\n",
    "- Computer language invented by Guido van Rossum in 1989\n",
    "    - Guido acted as Python's \"Benevolent Dictator For Life\" until 2018\n",
    "    - Massively used at Dropbox & Google (former employers of Guido)\n",
    "    - Recently Guido left retirement for Microsoft (optimize performances)\n",
    "\n",
    "- Open source:\n",
    "    - BSD-like license\n",
    "    - Means free for you\n",
    "    - Guaranteed to stay free\n",
    "\n",
    "- Portable: runs on any computer you may have access to:\n",
    "    - Supercomputers\n",
    "    - Servers\n",
    "    - Desktop computers\n",
    "    - Smartphones\n",
    "    - Microcontrollers ([micropython](https://micropython.org/))\n",
    "\n",
    "- Easily extendable: The ideal `glue` language.\n",
    "    - in C, Fortran, …\n",
    "    - Once compiled, can be as fast as C\n",
    "    \n",
    "## Examples of applications in Python\n",
    "- Scientific programs:PyMol, Sage\n",
    "- Web frameworks:Django, Zope, Plone, …\n",
    "- Scripting in large application:Blender, Gimp, FreeCAD …\n",
    "- Graphical user interfaces & visualization:\n",
    "    - Bindings to gtk, Qt, Tcl/Tk, wxWidgets, …\n",
    "    - Libraries for visualization: matplotlib, VTK, bokeh, bqplot, …\n",
    "- Scientific libraries:\n",
    "    - Numpy, scipy, various scientific kits like scikit-image, scikit-learn, scikit-cuda …\n",
    "    - Pandas, numba, numexpr, …\n",
    "- ESRF-driven and locally developped libraries:PyMca, PyHST, PyFAI, PyNX, FabIO, silx, bliss …\n",
    "\n",
    "## Why Python for data-analysis ?\n",
    "\n",
    "- Python can be learned in a couple of days\n",
    "- JuPyteR is ideal for prototyping\n",
    "- Free alternative to Matlab\n",
    "- It runs everywhere\n",
    "- Batteries are included\n",
    "- Excellent community support & local expertise\n",
    "- Can be extended into larger projects\n",
    "- Interfaces to low-level languages (for performances)\n",
    "\n",
    "![batteries are included](img/batteries_included.png \"Batteries included\")\n",
    "\n",
    "# Jupyter Notebook\n",
    "Jupyter-notebook is a web interface for interactively programming in languages like JUlia, PYThon or R (hence the name).\n",
    "\n",
    "Jupyter is a set of tools originally developed to make it easier for scientists to work with Python and data. \n",
    "It allows you to combine interactive Python exploration with prewritten programs and even text and equations for documentation.\n",
    "Jupyter isn’t a different programming language, it’s just a set of computer programs for working with the Python language. However, there are other ways to work with Python which will be introduced later in this course.\n",
    "\n",
    "Within the notebook, each box is called a “cell” and can be used for entering Python code or writing comments.\n",
    "\n",
    "The content of this notebook can be reset any time by clicking:\n",
    "\n",
    "> \n",
    "> Cell -> All Output -> Clear\n",
    "> \n",
    "\n",
    "Please to do it now in order to get a clean notebook.\n",
    "\n",
    "\n",
    "# Let's play with it!\n",
    "\n",
    "In the cells below, try typing something like `print(\"Hello World\")` into the cell and press **Shift-Enter**. The command is executed behind the scene and displays (under the cell) the content of the `print` command.\n"
   ]
  },
  {
   "cell_type": "code",
   "execution_count": 4,
   "id": "09f991a5",
   "metadata": {},
   "outputs": [
    {
     "name": "stdout",
     "output_type": "stream",
     "text": [
      "Hello world\n"
     ]
    },
    {
     "data": {
      "text/plain": [
       "10"
      ]
     },
     "execution_count": 4,
     "metadata": {},
     "output_type": "execute_result"
    }
   ],
   "source": [
    "print(\"Hello world\")"
   ]
  },
  {
   "cell_type": "markdown",
   "id": "608554b5",
   "metadata": {},
   "source": [
    "Play with it as a simple calculator \n",
    "- What is the result of 4+7/2?"
   ]
  },
  {
   "cell_type": "code",
   "execution_count": 5,
   "id": "5a8a5974",
   "metadata": {},
   "outputs": [
    {
     "data": {
      "text/plain": [
       "7.5"
      ]
     },
     "execution_count": 5,
     "metadata": {},
     "output_type": "execute_result"
    }
   ],
   "source": [
    "4 + 7 / 2"
   ]
  },
  {
   "cell_type": "code",
   "execution_count": null,
   "id": "c092b08c",
   "metadata": {},
   "outputs": [],
   "source": [
    "#Nota:\n",
    "# - the integer division is obtained from: //\n",
    "# - The division has priority over addition\n",
    "4 + 7 // 2"
   ]
  },
  {
   "cell_type": "markdown",
   "id": "4f275eb2",
   "metadata": {},
   "source": [
    "Note that everything on a single line that is after a `#` is ignored. This is called a `comment` (see below)."
   ]
  },
  {
   "cell_type": "markdown",
   "id": "dbd60ca4",
   "metadata": {},
   "source": [
    "What Python version is used? Where is the Python interpreter located on the machine? This can be done with function in the `sys` module. It first needs to be imported."
   ]
  },
  {
   "cell_type": "code",
   "execution_count": null,
   "id": "3c2d816e",
   "metadata": {},
   "outputs": [],
   "source": [
    "import sys \n",
    "print(sys.version)\n",
    "print(sys.executable)"
   ]
  },
  {
   "cell_type": "markdown",
   "id": "9fbe9a07",
   "metadata": {},
   "source": [
    "The `import` process is crucial in Python. You will see in this training some standard modules/libraries, such as `numpy`, `matplotlib`..."
   ]
  },
  {
   "cell_type": "code",
   "execution_count": 6,
   "id": "76e088bc",
   "metadata": {},
   "outputs": [
    {
     "name": "stdout",
     "output_type": "stream",
     "text": [
      "The sum of ∑_i∈N i*i = 164\n"
     ]
    }
   ],
   "source": [
    "#Calculator example\n",
    "N = [1, 3, 4, 5, 7, 8]\n",
    "print('The sum of ∑_i∈N i*i =', sum(i**2 for i in N ))"
   ]
  },
  {
   "cell_type": "markdown",
   "id": "063592c6",
   "metadata": {
    "slideshow": {
     "slide_type": "fragment"
    }
   },
   "source": [
    "The variable `N` is a `list`. Elements of the list can be accessed with `N[i]` where `i` is the desired index.\n",
    "Try to display the first element of the list `N`.\n"
   ]
  },
  {
   "cell_type": "code",
   "execution_count": null,
   "id": "2220d22d",
   "metadata": {
    "slideshow": {
     "slide_type": "fragment"
    }
   },
   "outputs": [],
   "source": [
    "print(N[to be filled])"
   ]
  },
  {
   "cell_type": "markdown",
   "id": "49052b8f",
   "metadata": {},
   "source": [
    "<font size=\"5\">WARNING</font> : **In Python, indices start at 0**\n",
    "- `N[0]` retrieves FIRST element of `N`\n",
    "- `N[3]` retrieves FOURTH element of `N`"
   ]
  },
  {
   "cell_type": "markdown",
   "id": "4ce08f2e",
   "metadata": {},
   "source": [
    "## Getting help!\n",
    "\n",
    "Python has extensive **help** built in. To get this help on any function, library, object or type, two possibilities:\n"
   ]
  },
  {
   "cell_type": "code",
   "execution_count": null,
   "id": "e981d641",
   "metadata": {},
   "outputs": [],
   "source": [
    "help(list)\n",
    "# or\n",
    "list? #JL: would remove it since not available in Python, opens a sub-tab and not the same output as help()\n",
    "# the last one opens a sub-tab down below."
   ]
  },
  {
   "cell_type": "markdown",
   "id": "567707ef",
   "metadata": {},
   "source": [
    "## Variables & Values\n",
    "    \n",
    "A `name` that is used to denote something or a `value` is called a **variable**. In python, variables can be declared and values can be assigned to it as follows, using the **=** sign.\n"
   ]
  },
  {
   "cell_type": "code",
   "execution_count": 16,
   "id": "1f51d7d8",
   "metadata": {},
   "outputs": [
    {
     "name": "stdout",
     "output_type": "stream",
     "text": [
      "7 Hey\n"
     ]
    }
   ],
   "source": [
    "x = 2         \n",
    "y = 5\n",
    "xy = 'Hey'\n",
    "print(x + y, xy) # not really necessary as the last value in a bit of code is displayed by default"
   ]
  },
  {
   "cell_type": "markdown",
   "id": "226b6a62",
   "metadata": {},
   "source": [
    "Multiple variables can be assigned with the same value:"
   ]
  },
  {
   "cell_type": "code",
   "execution_count": null,
   "id": "170b5c22",
   "metadata": {},
   "outputs": [],
   "source": [
    "# Confusing : would remove.\n",
    "x = y = 1\n",
    "print(x, \"+\", y, \"=\", x + y)"
   ]
  },
  {
   "cell_type": "markdown",
   "id": "0cfed5ea",
   "metadata": {},
   "source": [
    "## Comments\n",
    " \n",
    "In Python, comments can be single-line or multi-line. \n",
    " \n",
    "Single-line comments start with `#`, multi-line comments are enclosed by triple quotes (`\"\"\"` or `'''`)."
   ]
  },
  {
   "cell_type": "code",
   "execution_count": 18,
   "id": "c7222a98",
   "metadata": {},
   "outputs": [
    {
     "name": "stdout",
     "output_type": "stream",
     "text": [
      "12\n",
      "6.0\n"
     ]
    }
   ],
   "source": [
    "# Add five to x\n",
    "x = x + 5\n",
    "print(x)\n",
    "# The following line is commented and will not be executed\n",
    "# y = x / 0\n",
    "\"\"\"\n",
    "This is a multi-lines comments.\n",
    "It can serve to write longer explanations, or functions documentation\n",
    "(see later)\n",
    "\"\"\"\n",
    "y = x / 2\n",
    "print(y)"
   ]
  },
  {
   "cell_type": "code",
   "execution_count": null,
   "id": "92c0bfc2",
   "metadata": {},
   "outputs": [],
   "source": []
  }
 ],
 "metadata": {
  "kernelspec": {
   "display_name": "Python 3 (ipykernel)",
   "language": "python",
   "name": "python3"
  },
  "language_info": {
   "codemirror_mode": {
    "name": "ipython",
    "version": 3
   },
   "file_extension": ".py",
   "mimetype": "text/x-python",
   "name": "python",
   "nbconvert_exporter": "python",
   "pygments_lexer": "ipython3",
   "version": "3.10.9"
  },
  "toc-showtags": false
 },
 "nbformat": 4,
 "nbformat_minor": 5
}
